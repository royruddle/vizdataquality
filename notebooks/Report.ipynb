{
 "cells": [
  {
   "cell_type": "markdown",
   "id": "f2662b53",
   "metadata": {},
   "source": [
    "# Report - a simple example"
   ]
  },
  {
   "cell_type": "markdown",
   "id": "7a52e830",
   "metadata": {},
   "source": [
    "This notebook illustrates the functionality of the Report class, which enables you to write a report about your data quality investigations and a datasets's profile, while you analyse it. You may output the report in:\n",
    "- Plain text (e.g., for subsequent editting in a word processor)\n",
    "- As a webpage (.htm or .html)\n",
    "- In Latex (.tex)"
   ]
  },
  {
   "cell_type": "markdown",
   "id": "69ba3e19",
   "metadata": {},
   "source": [
    "## Includes: viz_data_quality and other libraries"
   ]
  },
  {
   "cell_type": "code",
   "execution_count": 1,
   "id": "9a18e4b9",
   "metadata": {},
   "outputs": [],
   "source": [
    "import os\n",
    "import pandas as pd\n",
    "import matplotlib as mpl\n",
    "\n",
    "from vizdataquality import calculate as vdqc, datasets as vdqd, plot as vdqp, report as vdqr"
   ]
  },
  {
   "cell_type": "markdown",
   "id": "6268105a",
   "metadata": {},
   "source": [
    "## Get a dataframe's profile"
   ]
  },
  {
   "cell_type": "code",
   "execution_count": 2,
   "id": "8ca8ace1",
   "metadata": {
    "scrolled": true
   },
   "outputs": [],
   "source": [
    "dataset = 'missing 1'\n",
    "num_rows, df = vdqd.get_dataset(dataset)\n",
    "df_output = vdqc.calc(df)\n",
    "num_cols = df.shape[1]"
   ]
  },
  {
   "cell_type": "markdown",
   "id": "59e804a8",
   "metadata": {},
   "source": [
    "## Create a report while analysing the data"
   ]
  },
  {
   "cell_type": "markdown",
   "id": "2816a21d",
   "metadata": {},
   "source": [
    "### Initialise the report and add a title"
   ]
  },
  {
   "cell_type": "code",
   "execution_count": 3,
   "id": "4da00c5c",
   "metadata": {},
   "outputs": [
    {
     "data": {
      "text/plain": [
       "1"
      ]
     },
     "execution_count": 3,
     "metadata": {},
     "output_type": "execute_result"
    }
   ],
   "source": [
    "overwrite=True # True or False\n",
    "report_folder = '../examples/Simple_report/' # The folder in which the output is stored (it must exist).\n",
    "report = vdqr.Report()\n",
    "report.add_title('Example report for the ' + dataset + ' dataset')"
   ]
  },
  {
   "cell_type": "markdown",
   "id": "5a556bcb",
   "metadata": {},
   "source": [
    "### Add section headings"
   ]
  },
  {
   "cell_type": "markdown",
   "id": "1b41617a",
   "metadata": {},
   "source": [
    "By default headings are Level 1, but they may be specified using the 'level' parameter (see below).\n",
    "\n",
    "The Report class also has built-in headings for a six-step data quality/profiling workflow, which is illustrated in the Workflow example notebook. Those steps are:\n",
    "- report.step1() Look at your data (is anything obviously wrong?)\n",
    "- report.step2() Watch out for special values\n",
    "- report.step3() Is any data missing?\n",
    "- report.step4() Check each variable\n",
    "- report.step5() Check combinations of variables\n",
    "- report.step6() Profile the cleaned data"
   ]
  },
  {
   "cell_type": "code",
   "execution_count": 4,
   "id": "fdee2dcf",
   "metadata": {},
   "outputs": [
    {
     "data": {
      "text/plain": [
       "4"
      ]
     },
     "execution_count": 4,
     "metadata": {},
     "output_type": "execute_result"
    }
   ],
   "source": [
    "report.add_heading('Introduction', text='This is a simple report, which shows how the results of data quality and profiling investigations may be output in plain text, as a webpage or as a Latex document.')\n",
    "report.paragraph('Use the paragraph() function to add additional general paragraphs of text.')\n",
    "report.add_heading('Results')"
   ]
  },
  {
   "cell_type": "markdown",
   "id": "0986680c",
   "metadata": {},
   "source": [
    "### Add tables"
   ]
  },
  {
   "cell_type": "code",
   "execution_count": 5,
   "id": "c3335452",
   "metadata": {},
   "outputs": [
    {
     "data": {
      "text/plain": [
       "5"
      ]
     },
     "execution_count": 5,
     "metadata": {},
     "output_type": "execute_result"
    }
   ],
   "source": [
    "report.add_heading('A section with tables', level=2)"
   ]
  },
  {
   "cell_type": "markdown",
   "id": "35d247cd",
   "metadata": {},
   "source": [
    "#### A table showing the number of rows and columns in the dataset"
   ]
  },
  {
   "cell_type": "markdown",
   "id": "ce637daf",
   "metadata": {},
   "source": [
    "The 'text' parameter is optional. If you use the keyword '\\\\$table' then a reference to the table number will be inserted when the report is output. There is an equivalent keyword for figures ('\\\\$figure')."
   ]
  },
  {
   "cell_type": "code",
   "execution_count": 6,
   "id": "2df502fb",
   "metadata": {},
   "outputs": [
    {
     "data": {
      "text/plain": [
       "6"
      ]
     },
     "execution_count": 6,
     "metadata": {},
     "output_type": "execute_result"
    }
   ],
   "source": [
    "report.dataset_size(dataset, num_rows, num_cols, text='$table shows the number of rows and columns in the dataset.')"
   ]
  },
  {
   "cell_type": "markdown",
   "id": "daca1229",
   "metadata": {},
   "source": [
    "#### Descriptive statistics for each variable, output as a textual table"
   ]
  },
  {
   "cell_type": "markdown",
   "id": "a34a6093",
   "metadata": {},
   "source": [
    "You may also output any dataframe using the report.table() function."
   ]
  },
  {
   "cell_type": "code",
   "execution_count": 7,
   "id": "fe370a7f",
   "metadata": {},
   "outputs": [
    {
     "data": {
      "text/plain": [
       "7"
      ]
     },
     "execution_count": 7,
     "metadata": {},
     "output_type": "execute_result"
    }
   ],
   "source": [
    "cols = ['Data type', 'Example value', 'Number of missing values']\n",
    "caption = 'The data type, an example value and the number of missing values in of each variable.'\n",
    "report.add_descriptive_stats(df_output[cols], text='$table shows descriptive statistics for each variable in the dataset.', caption=caption)"
   ]
  },
  {
   "cell_type": "markdown",
   "id": "7e9630d8",
   "metadata": {},
   "source": [
    "#### The same descriptive statistics output as an image of a table"
   ]
  },
  {
   "cell_type": "markdown",
   "id": "a16d1690",
   "metadata": {},
   "source": [
    "Tables may be output as images. The 'loc' parameter positions the table in the centre of the image, and by manually adjusting the figure size you can get the table to fit nicely within the figure."
   ]
  },
  {
   "cell_type": "code",
   "execution_count": 8,
   "id": "82dd4b00",
   "metadata": {},
   "outputs": [
    {
     "data": {
      "image/png": "[encoded data removed]",
      "text/plain": [
       "<Figure size 600x150 with 1 Axes>"
      ]
     },
     "metadata": {},
     "output_type": "display_data"
    },
    {
     "data": {
      "text/plain": [
       "8"
      ]
     },
     "execution_count": 8,
     "metadata": {},
     "output_type": "execute_result"
    }
   ],
   "source": [
    "fig_kw = {'size_inches': (6, 1.5)}\n",
    "image_filename = os.path.join(report_folder, 'table_desc_stats.jpg')\n",
    "vdqp.table(df_output[cols], include_index=True, filename=image_filename, overwrite=overwrite, fig_kw=fig_kw, loc='center')\n",
    "report.add_table(filename=image_filename, text='$table shows the same descriptive statistics, but as an image.', caption=caption)"
   ]
  },
  {
   "cell_type": "markdown",
   "id": "bb81946e",
   "metadata": {},
   "source": [
    "### Add a figure showing different descriptive stats"
   ]
  },
  {
   "cell_type": "markdown",
   "id": "91fa0913",
   "metadata": {},
   "source": [
    "Perceptual discontinuity is used for some bars so that you can easily see that variable B is missing a few values (rather than being complete) and D does have some values (rather than being totally empty). Similarly variables A, B, C and D each have only a few unique values, whereas E is totally empty.\n",
    "\n",
    "For further information, see the Bar chart (missing values) example notebook.\n",
    "\n",
    "To save print quality figures, specify the Matplotlib 'savefig.dpi' parameter (see below)"
   ]
  },
  {
   "cell_type": "code",
   "execution_count": 9,
   "id": "3557def9",
   "metadata": {},
   "outputs": [
    {
     "data": {
      "text/plain": [
       "9"
      ]
     },
     "execution_count": 9,
     "metadata": {},
     "output_type": "execute_result"
    }
   ],
   "source": [
    "report.add_heading('A section with figures', level=2)"
   ]
  },
  {
   "cell_type": "code",
   "execution_count": 10,
   "id": "cacbd5b8",
   "metadata": {},
   "outputs": [],
   "source": [
    "# Uncomment this line if you want to save print quality figures (e.g., for Latex output rather than viewing on screen or in a webpage)\n",
    "#mpl.rcParams['savefig.dpi'] = 300"
   ]
  },
  {
   "cell_type": "code",
   "execution_count": 11,
   "id": "253a5612",
   "metadata": {},
   "outputs": [
    {
     "data": {
      "image/png": "[encoded data removed]",
      "text/plain": [
       "<Figure size 2400x600 with 2 Axes>"
      ]
     },
     "metadata": {},
     "output_type": "display_data"
    },
    {
     "data": {
      "text/plain": [
       "10"
      ]
     },
     "execution_count": 11,
     "metadata": {},
     "output_type": "execute_result"
    }
   ],
   "source": [
    "cols = ['Number of missing values', 'Number of unique values']\n",
    "fig_kw = {'size_inches': (8, 2), 'constrained_layout': True, 'dpi': 300}\n",
    "ax_kw = {'xlim': (0, num_rows)}\n",
    "image_filename = os.path.join(report_folder, 'fig_desc_stats.jpg')\n",
    "vdqp.plotgrid('scalars', df_output[cols], num_cols=2, vert=False, filename=image_filename, overwrite=overwrite, fig_kw=fig_kw, ax_kw=ax_kw)\n",
    "report.add_figure(image_filename, text='$figure shows other descriptive statistics for each variable.', caption='The number of values and number of unique values in each variable.')"
   ]
  },
  {
   "cell_type": "markdown",
   "id": "17f5ea0d",
   "metadata": {},
   "source": [
    "### Add acknowledgements"
   ]
  },
  {
   "cell_type": "code",
   "execution_count": 12,
   "id": "99ddb296",
   "metadata": {},
   "outputs": [
    {
     "data": {
      "text/plain": [
       "11"
      ]
     },
     "execution_count": 12,
     "metadata": {},
     "output_type": "execute_result"
    }
   ],
   "source": [
    "report.add_acknowledgements('Thank you to A.N. Other for their help.')"
   ]
  },
  {
   "cell_type": "markdown",
   "id": "77348382",
   "metadata": {},
   "source": [
    "### Save the file (text, HTML or latex)"
   ]
  },
  {
   "cell_type": "markdown",
   "id": "0c865d31",
   "metadata": {},
   "source": [
    "The table_kw parameter provides optional parameters for outputting HTML and Latex tables. For details see pd.DataFrame.to_html() and pd.DataFrame.to_latex(). For Latex output, 'position' is also applied to figures/tables that are stored as images.\n",
    "\n",
    "NB: In Latex, if your variable names contain characters such as '_' then you may need to manually edit the output."
   ]
  },
  {
   "cell_type": "code",
   "execution_count": 13,
   "id": "c425807e",
   "metadata": {},
   "outputs": [],
   "source": [
    "report.save(os.path.join(report_folder, 'simple_example_report.txt'), overwrite=overwrite)\n",
    "\n",
    "report.save(os.path.join(report_folder, 'simple_example_report.html'), overwrite=overwrite) # The file extension may be .htm or .html\n",
    "\n",
    "table_kw = {}\n",
    "table_kw={'position': 'h!'} # Ask Latex to place each image 'exactly here'\n",
    "report.save(os.path.join(report_folder, 'simple_example_report.tex'), overwrite=overwrite, table_kw=table_kw)"
   ]
  },
  {
   "cell_type": "code",
   "execution_count": null,
   "id": "f1b9d187",
   "metadata": {},
   "outputs": [],
   "source": []
  }
 ],
 "metadata": {
  "kernelspec": {
   "display_name": "Python 3 (ipykernel)",
   "language": "python",
   "name": "python3"
  },
  "language_info": {
   "codemirror_mode": {
    "name": "ipython",
    "version": 3
   },
   "file_extension": ".py",
   "mimetype": "text/x-python",
   "name": "python",
   "nbconvert_exporter": "python",
   "pygments_lexer": "ipython3",
   "version": "3.11.5"
  }
 },
 "nbformat": 4,
 "nbformat_minor": 5
}
