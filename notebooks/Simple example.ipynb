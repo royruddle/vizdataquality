{
 "cells": [
  {
   "cell_type": "markdown",
   "id": "f2662b53",
   "metadata": {},
   "source": [
    "# Simple example"
   ]
  },
  {
   "cell_type": "markdown",
   "id": "2ef2c293",
   "metadata": {},
   "source": [
    "This example shows how to profile a dataframe and output the results."
   ]
  },
  {
   "cell_type": "markdown",
   "id": "69ba3e19",
   "metadata": {},
   "source": [
    "## Includes: viz_data_quality and other libraries"
   ]
  },
  {
   "cell_type": "code",
   "execution_count": 7,
   "id": "9a18e4b9",
   "metadata": {},
   "outputs": [],
   "source": [
    "import pandas as pd\n",
    "import numpy as np\n",
    "import datetime\n",
    "\n",
    "from vizdataquality import utils as vdqu, calculate as vduc"
   ]
  },
  {
   "cell_type": "markdown",
   "id": "7d58911e",
   "metadata": {},
   "source": [
    "## Initialise"
   ]
  },
  {
   "cell_type": "code",
   "execution_count": 8,
   "id": "14e11256",
   "metadata": {},
   "outputs": [],
   "source": [
    "logger, handlers = vdqu.init_logging(logfile_name='logfile_tmp.txt', overwrite_output_file=True)"
   ]
  },
  {
   "cell_type": "markdown",
   "id": "6268105a",
   "metadata": {},
   "source": [
    "## Create a dataframe"
   ]
  },
  {
   "cell_type": "code",
   "execution_count": 9,
   "id": "8ca8ace1",
   "metadata": {},
   "outputs": [],
   "source": [
    "data = {}\n",
    "data['String'] = ['a'] * 6 + ['B1234'] * 2 + [np.nan] * 2\n",
    "data['Integer'] = list(range(0, 10))\n",
    "data['Float'] = [x/10 for x in range(6)] + [np.nan] * 4\n",
    "data['Date'] = [datetime.datetime(x, 1, 1) for x in range(2000, 2008)] + [np.nan] * 2\n",
    "df = pd.DataFrame.from_dict(data)"
   ]
  },
  {
   "cell_type": "markdown",
   "id": "084d28e7",
   "metadata": {},
   "source": [
    "## Profile the data"
   ]
  },
  {
   "cell_type": "code",
   "execution_count": 10,
   "id": "d9c0befc",
   "metadata": {},
   "outputs": [],
   "source": [
    "df_output = vduc.calc(df)\n",
    "# Output aspects of data quality and descriptive statistics \n",
    "df_output.to_csv('tmp_test_output.csv', index=False)"
   ]
  },
  {
   "cell_type": "markdown",
   "id": "8434c5dc",
   "metadata": {},
   "source": [
    "## Clean up"
   ]
  },
  {
   "cell_type": "code",
   "execution_count": 11,
   "id": "aa6c2c51",
   "metadata": {},
   "outputs": [],
   "source": [
    "vdqu.end_logging(logger, handlers)"
   ]
  },
  {
   "cell_type": "code",
   "execution_count": null,
   "id": "e49edafa",
   "metadata": {},
   "outputs": [],
   "source": []
  }
 ],
 "metadata": {
  "kernelspec": {
   "display_name": "Python 3 (ipykernel)",
   "language": "python",
   "name": "python3"
  },
  "language_info": {
   "codemirror_mode": {
    "name": "ipython",
    "version": 3
   },
   "file_extension": ".py",
   "mimetype": "text/x-python",
   "name": "python",
   "nbconvert_exporter": "python",
   "pygments_lexer": "ipython3",
   "version": "3.9.16"
  }
 },
 "nbformat": 4,
 "nbformat_minor": 5
}
